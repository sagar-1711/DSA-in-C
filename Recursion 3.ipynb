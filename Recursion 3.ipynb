{
 "cells": [
  {
   "cell_type": "markdown",
   "metadata": {},
   "source": [
    "# Return Subsequences Of A String"
   ]
  },
  {
   "cell_type": "code",
   "execution_count": 2,
   "metadata": {},
   "outputs": [
    {
     "name": "stdout",
     "output_type": "stream",
     "text": [
      "[' ', 'c ', 'b ', 'bc ', 'a ', 'ac ', 'ab ', 'abc ']\n"
     ]
    }
   ],
   "source": [
    "def subs(str):\n",
    "    \n",
    "    if len(str) == 0:\n",
    "        output = []\n",
    "        output.append(\" \")\n",
    "        return output\n",
    "    \n",
    "    smallerString = str[1:]\n",
    "    smallerOutput = subs(smallerString)\n",
    "    \n",
    "    output = []\n",
    "    for sub in smallerOutput:\n",
    "        output.append(sub)\n",
    "        \n",
    "    for sub in smallerOutput:\n",
    "        subs_with_zeroth_char = str[0] + sub\n",
    "        output.append(subs_with_zeroth_char)\n",
    "    \n",
    "    return output\n",
    "    \n",
    "print(subs(\"abc\"))"
   ]
  },
  {
   "cell_type": "markdown",
   "metadata": {},
   "source": [
    "# Return Keypad Combinations"
   ]
  },
  {
   "cell_type": "code",
   "execution_count": 4,
   "metadata": {},
   "outputs": [
    {
     "name": "stdout",
     "output_type": "stream",
     "text": [
      "23\n",
      "ad\n",
      "ae\n",
      "af\n",
      "bd\n",
      "be\n",
      "bf\n",
      "cd\n",
      "ce\n",
      "cf\n"
     ]
    }
   ],
   "source": [
    "def getString(d):\n",
    "    if d==2:\n",
    "        return \"abc\"\n",
    "    if d==3:\n",
    "        return \"def\"\n",
    "    if d==4:\n",
    "        return \"ghi\"\n",
    "    if d==5:\n",
    "        return \"jkl\"\n",
    "    if d==6:\n",
    "        return \"mno\"\n",
    "    if d==7:\n",
    "        return \"pqrs\"\n",
    "    if d==8:\n",
    "        return \"tuv\"\n",
    "    if d==9:\n",
    "        return \"wxyz\"\n",
    "    return \" \"\n",
    "def keypad(n):\n",
    "    if n==0:\n",
    "        output=[]\n",
    "        output.append(\"\")\n",
    "        return output\n",
    "    smallerNumber=n//10\n",
    "    lastDigit=n%10\n",
    "    smallerOutput=keypad(smallerNumber)\n",
    "    optionsForLastDigit=getString(lastDigit)\n",
    "    output=[]\n",
    "    for s in smallerOutput:\n",
    "        for c in optionsForLastDigit:\n",
    "            option=s+c\n",
    "            output.append(option)\n",
    "    return output\n",
    "n = int(input())\n",
    "ans = keypad(n)\n",
    "for s in ans:\n",
    "    print(s)"
   ]
  },
  {
   "cell_type": "markdown",
   "metadata": {},
   "source": [
    "# Print Subsequences"
   ]
  },
  {
   "cell_type": "code",
   "execution_count": 5,
   "metadata": {},
   "outputs": [
    {
     "name": "stdout",
     "output_type": "stream",
     "text": [
      "abc\n",
      "\n",
      "c\n",
      "b\n",
      "bc\n",
      "a\n",
      "ac\n",
      "ab\n",
      "abc\n"
     ]
    }
   ],
   "source": [
    "\n",
    "\n",
    "\n",
    "def printSubs(s,o):\n",
    "    if len(s)==0:\n",
    "        print(o)\n",
    "        return\n",
    "    printSubs(s[1:],o)\n",
    "    newOutput=o+s[0]\n",
    "    printSubs(s[1:],newOutput)\n",
    "\n",
    "s= input()\n",
    "printSubs(s,\"\")"
   ]
  },
  {
   "cell_type": "markdown",
   "metadata": {},
   "source": [
    "# Print Keypad"
   ]
  },
  {
   "cell_type": "code",
   "execution_count": 6,
   "metadata": {},
   "outputs": [
    {
     "name": "stdout",
     "output_type": "stream",
     "text": [
      "234\n",
      "adg\n",
      "bdg\n",
      "cdg\n",
      "aeg\n",
      "beg\n",
      "ceg\n",
      "afg\n",
      "bfg\n",
      "cfg\n",
      "adh\n",
      "bdh\n",
      "cdh\n",
      "aeh\n",
      "beh\n",
      "ceh\n",
      "afh\n",
      "bfh\n",
      "cfh\n",
      "adi\n",
      "bdi\n",
      "cdi\n",
      "aei\n",
      "bei\n",
      "cei\n",
      "afi\n",
      "bfi\n",
      "cfi\n"
     ]
    }
   ],
   "source": [
    "def printKeypad(n,outputSoFar):\n",
    "    if n==0:\n",
    "        print(outputSoFar)\n",
    "        return\n",
    "    smallNumber=n//10\n",
    "    lastDigit=n%10\n",
    "    \n",
    "    optionsForLastDigit=getString(lastDigit)\n",
    "    for c in optionsForLastDigit:\n",
    "        newOutput=c+outputSoFar\n",
    "        printKeypad(smallNumber,newOutput)\n",
    "def getString(d):\n",
    "    if d==2:\n",
    "        return \"abc\"\n",
    "    if d==3:\n",
    "        return \"def\"\n",
    "    if d==4:\n",
    "        return \"ghi\"\n",
    "    if d==5:\n",
    "        return \"jkl\"\n",
    "    if d==6:\n",
    "        return \"mno\"\n",
    "    if d==7:\n",
    "        return \"pqrs\"\n",
    "    if d==8:\n",
    "        return \"tuv\"\n",
    "    if d==9:\n",
    "        return \"wxyz\"\n",
    "    return \" \"\n",
    "\n",
    "n=int(input())\n",
    "printKeypad(n,\"\")"
   ]
  },
  {
   "cell_type": "markdown",
   "metadata": {},
   "source": [
    "# Return subset of an array "
   ]
  },
  {
   "cell_type": "code",
   "execution_count": 8,
   "metadata": {},
   "outputs": [
    {
     "name": "stdout",
     "output_type": "stream",
     "text": [
      "3\n",
      "1 2 3\n",
      "\n",
      "3 \n",
      "2 \n",
      "2 3 \n",
      "1 \n",
      "1 3 \n",
      "1 2 \n",
      "1 2 3 \n"
     ]
    }
   ],
   "source": [
    "## Read input as specified in the question.\n",
    "## Print output as specified in the question.\n",
    "def subs(l):\n",
    "    if l == []:\n",
    "        return [[]]\n",
    "\n",
    "    x = subs(l[1:])\n",
    "    \n",
    "    return x+ [[l[0]]+y for y in x]\n",
    "n=int(input())\n",
    "arr=[int(i) for i in input().split()]\n",
    "x=subs(arr)\n",
    "for i in x:\n",
    "    for j in i:\n",
    "        print(j, end = \" \")\n",
    "    print()"
   ]
  },
  {
   "cell_type": "markdown",
   "metadata": {},
   "source": [
    "# Return Permutations of a String "
   ]
  },
  {
   "cell_type": "code",
   "execution_count": 9,
   "metadata": {},
   "outputs": [
    {
     "name": "stdout",
     "output_type": "stream",
     "text": [
      "abcd\n",
      "abcd\n",
      "abdc\n",
      "acbd\n",
      "acdb\n",
      "adbc\n",
      "adcb\n",
      "bacd\n",
      "badc\n",
      "bcad\n",
      "bcda\n",
      "bdac\n",
      "bdca\n",
      "cabd\n",
      "cadb\n",
      "cbad\n",
      "cbda\n",
      "cdab\n",
      "cdba\n",
      "dabc\n",
      "dacb\n",
      "dbac\n",
      "dbca\n",
      "dcab\n",
      "dcba\n"
     ]
    }
   ],
   "source": [
    "#Method 1\n",
    "\n",
    "def permutation(str):\n",
    "    if len(str)==0:\n",
    "        output=[\"\"]\n",
    "        return output\n",
    "    output=[]\n",
    "    for i in range(len(str)):\n",
    "        first=str[i]\n",
    "        remaining=str[:i]+str[i+1:]\n",
    "        smalloutput=permutation(remaining)\n",
    "        for ele in smalloutput:\n",
    "            ans=first+ele\n",
    "            output.append(ans)\n",
    "    return output  \n",
    "\n",
    "str= input()\n",
    "ans=permutation(str) \n",
    "\n",
    "for ele in ans:\n",
    "    print(ele)\n",
    "\n"
   ]
  },
  {
   "cell_type": "markdown",
   "metadata": {},
   "source": [
    "# Print Subsets of Array"
   ]
  },
  {
   "cell_type": "code",
   "execution_count": 10,
   "metadata": {},
   "outputs": [
    {
     "name": "stdout",
     "output_type": "stream",
     "text": [
      "4\n",
      "1 2 3 4\n",
      "1 2 3 4\n",
      "1 2 3\n",
      "1 2 4\n",
      "1 2\n",
      "1 3 4\n",
      "1 3\n",
      "1 4\n",
      "1\n",
      "2 3 4\n",
      "2 3\n",
      "2 4\n",
      "2\n",
      "3 4\n",
      "3\n",
      "4\n",
      "\n"
     ]
    }
   ],
   "source": [
    "## Read input as specified in the question.\n",
    "## Print output as specified in the question.\n",
    "def subs(l,output):\n",
    "    if l == []:\n",
    "        print(*output)\n",
    "        return\n",
    "\n",
    "    subs(l[1:],output+[l[0]])\n",
    "    subs(l[1:],output)\n",
    "    \n",
    "n=int(input())\n",
    "arr=[int(i) for i in input().split()]\n",
    "subs(arr,[])"
   ]
  },
  {
   "cell_type": "markdown",
   "metadata": {},
   "source": [
    "# Print Subset Sum to K "
   ]
  },
  {
   "cell_type": "code",
   "execution_count": 1,
   "metadata": {},
   "outputs": [
    {
     "name": "stdout",
     "output_type": "stream",
     "text": [
      "3\n",
      "2 2 2\n",
      "4\n",
      "2 2\n",
      "2 2\n",
      "2 2\n"
     ]
    }
   ],
   "source": [
    "def returnSubsets(arr,k,output):\n",
    "    if k<0:\n",
    "        return\n",
    "    if k==0:\n",
    "        print(*output)\n",
    "        return\n",
    "            \n",
    "    if len(arr)==0:\n",
    "        return\n",
    "    \n",
    "    excluding=returnSubsets(arr[1:],k,output)\n",
    "    including=returnSubsets(arr[1:],k-arr[0],output+[arr[0]])\n",
    "    \n",
    "    \n",
    "    \n",
    "    \n",
    "    \n",
    "n=int(input())\n",
    "arr=[int(x) for x in input().split()]\n",
    "k=int(input())\n",
    "output=[]\n",
    "returnSubsets(arr,k,output)"
   ]
  },
  {
   "cell_type": "markdown",
   "metadata": {},
   "source": [
    "# Print Permutations of a String "
   ]
  },
  {
   "cell_type": "code",
   "execution_count": 2,
   "metadata": {},
   "outputs": [
    {
     "name": "stdout",
     "output_type": "stream",
     "text": [
      "abcd\n",
      "dcba\n",
      "cdba\n",
      "dbca\n",
      "bdca\n",
      "cbda\n",
      "bcda\n",
      "dcab\n",
      "cdab\n",
      "dacb\n",
      "adcb\n",
      "cadb\n",
      "acdb\n",
      "dbac\n",
      "bdac\n",
      "dabc\n",
      "adbc\n",
      "badc\n",
      "abdc\n",
      "cbad\n",
      "bcad\n",
      "cabd\n",
      "acbd\n",
      "bacd\n",
      "abcd\n"
     ]
    }
   ],
   "source": [
    "def permutation(str,output):\n",
    "    if len(str) == 0:\n",
    "        print(output)\n",
    "        return \n",
    "    \n",
    "    for i in range(len(str)):\n",
    "        remaining=str[:i]+str[i+1:]\n",
    "        permutation(remaining,str[i]+output)\n",
    "        \n",
    "    \n",
    "str= input()\n",
    "permutation(str,\"\")"
   ]
  },
  {
   "cell_type": "code",
   "execution_count": null,
   "metadata": {},
   "outputs": [],
   "source": []
  }
 ],
 "metadata": {
  "kernelspec": {
   "display_name": "Python 3",
   "language": "python",
   "name": "python3"
  },
  "language_info": {
   "codemirror_mode": {
    "name": "ipython",
    "version": 3
   },
   "file_extension": ".py",
   "mimetype": "text/x-python",
   "name": "python",
   "nbconvert_exporter": "python",
   "pygments_lexer": "ipython3",
   "version": "3.7.3"
  }
 },
 "nbformat": 4,
 "nbformat_minor": 2
}
